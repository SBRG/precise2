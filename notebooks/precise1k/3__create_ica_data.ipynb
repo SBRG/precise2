{
 "cells": [
  {
   "cell_type": "markdown",
   "metadata": {},
   "source": [
    "# Import Packages"
   ]
  },
  {
   "cell_type": "code",
   "execution_count": 4,
   "metadata": {},
   "outputs": [],
   "source": [
    "# built-in\n",
    "import os.path\n",
    "\n",
    "# third-party (pip install required)\n",
    "import numpy as np\n",
    "import pandas as pd\n",
    "from pymodulon.compare import compare_ica\n",
    "from pymodulon.core import IcaData\n",
    "from pymodulon.io import load_json_model, save_to_json\n",
    "from pymodulon.util import explained_variance\n",
    "from tqdm.notebook import tqdm"
   ]
  },
  {
   "cell_type": "code",
   "execution_count": 2,
   "metadata": {},
   "outputs": [],
   "source": [
    "# Enter the location of your data here\n",
    "data_dir = '../../data/precise1k/'\n",
    "annotation_dir = '../../data/annotation'"
   ]
  },
  {
   "cell_type": "markdown",
   "metadata": {},
   "source": [
    "# QC Tables"
   ]
  },
  {
   "cell_type": "markdown",
   "metadata": {},
   "source": [
    "## Metadata"
   ]
  },
  {
   "cell_type": "markdown",
   "metadata": {},
   "source": [
    "Your metadata file will probably have a lot of columns, most of which you may not care about. Feel free to save a secondary copy of your metadata file with only columns that seem relevant to you. The two most important columns are:\n",
    "1. `project`\n",
    "2. `condition`\n",
    "\n",
    "Make sure that these columns exist in your metadata file"
   ]
  },
  {
   "cell_type": "code",
   "execution_count": 3,
   "metadata": {},
   "outputs": [
    {
     "data": {
      "text/html": [
       "<div>\n",
       "<style scoped>\n",
       "    .dataframe tbody tr th:only-of-type {\n",
       "        vertical-align: middle;\n",
       "    }\n",
       "\n",
       "    .dataframe tbody tr th {\n",
       "        vertical-align: top;\n",
       "    }\n",
       "\n",
       "    .dataframe thead th {\n",
       "        text-align: right;\n",
       "    }\n",
       "</style>\n",
       "<table border=\"1\" class=\"dataframe\">\n",
       "  <thead>\n",
       "    <tr style=\"text-align: right;\">\n",
       "      <th></th>\n",
       "      <th>project</th>\n",
       "      <th>condition</th>\n",
       "    </tr>\n",
       "  </thead>\n",
       "  <tbody>\n",
       "    <tr>\n",
       "      <th>ecoli_00001</th>\n",
       "      <td>control</td>\n",
       "      <td>wt_glc</td>\n",
       "    </tr>\n",
       "    <tr>\n",
       "      <th>ecoli_00002</th>\n",
       "      <td>control</td>\n",
       "      <td>wt_glc</td>\n",
       "    </tr>\n",
       "    <tr>\n",
       "      <th>ecoli_00003</th>\n",
       "      <td>fur</td>\n",
       "      <td>wt_dpd</td>\n",
       "    </tr>\n",
       "    <tr>\n",
       "      <th>ecoli_00004</th>\n",
       "      <td>fur</td>\n",
       "      <td>wt_dpd</td>\n",
       "    </tr>\n",
       "    <tr>\n",
       "      <th>ecoli_00005</th>\n",
       "      <td>fur</td>\n",
       "      <td>wt_fe</td>\n",
       "    </tr>\n",
       "  </tbody>\n",
       "</table>\n",
       "</div>"
      ],
      "text/plain": [
       "             project condition\n",
       "ecoli_00001  control    wt_glc\n",
       "ecoli_00002  control    wt_glc\n",
       "ecoli_00003      fur    wt_dpd\n",
       "ecoli_00004      fur    wt_dpd\n",
       "ecoli_00005      fur     wt_fe"
      ]
     },
     "execution_count": 3,
     "metadata": {},
     "output_type": "execute_result"
    }
   ],
   "source": [
    "df_metadata = pd.read_csv(path.join(data_dir,'metadata_qc.csv'),index_col=0)\n",
    "df_metadata[['project','condition']].head()"
   ]
  },
  {
   "cell_type": "code",
   "execution_count": 4,
   "metadata": {},
   "outputs": [
    {
     "name": "stdout",
     "output_type": "stream",
     "text": [
      "True\n",
      "True\n"
     ]
    }
   ],
   "source": [
    "print(df_metadata.project.notnull().all())\n",
    "print(df_metadata.condition.notnull().all())"
   ]
  },
  {
   "cell_type": "markdown",
   "metadata": {},
   "source": [
    "## TRN"
   ]
  },
  {
   "cell_type": "markdown",
   "metadata": {},
   "source": [
    "Each row of the TRN file represents a regulatory interaction.  \n",
    "**Your TRN file must have the following columns:**\n",
    "1. `regulator` - Name of regulator (`/` or `+` characters will be converted to `;`)\n",
    "1. `gene_id` - Locus tag of gene being regulated\n",
    "\n",
    "The following columns are optional, but are helpful to have:\n",
    "1. `regulator_id` - Locus tag of regulator\n",
    "1. `gene_name` - Name of gene (can automatically update this using `name2num`)\n",
    "1. `direction` - Direction of regulation ('+' for activation, '-' for repression, '?' or NaN for unknown)\n",
    "1. `evidence` - Evidence of regulation (e.g. ChIP-exo, qRT-PCR, SELEX, Motif search)\n",
    "1. `PMID` - Reference for regulation\n",
    "\n",
    "You may add any other columns that could help you. TRNs may be saved as either CSV or TSV files. See below for an example:"
   ]
  },
  {
   "cell_type": "code",
   "execution_count": 5,
   "metadata": {},
   "outputs": [
    {
     "data": {
      "text/html": [
       "<div>\n",
       "<style scoped>\n",
       "    .dataframe tbody tr th:only-of-type {\n",
       "        vertical-align: middle;\n",
       "    }\n",
       "\n",
       "    .dataframe tbody tr th {\n",
       "        vertical-align: top;\n",
       "    }\n",
       "\n",
       "    .dataframe thead th {\n",
       "        text-align: right;\n",
       "    }\n",
       "</style>\n",
       "<table border=\"1\" class=\"dataframe\">\n",
       "  <thead>\n",
       "    <tr style=\"text-align: right;\">\n",
       "      <th></th>\n",
       "      <th>regulator</th>\n",
       "      <th>gene_name</th>\n",
       "      <th>gene_id</th>\n",
       "      <th>effect</th>\n",
       "      <th>evidence</th>\n",
       "      <th>source</th>\n",
       "    </tr>\n",
       "  </thead>\n",
       "  <tbody>\n",
       "    <tr>\n",
       "      <th>0</th>\n",
       "      <td>AccB</td>\n",
       "      <td>accB</td>\n",
       "      <td>b3255</td>\n",
       "      <td>-</td>\n",
       "      <td>0.0</td>\n",
       "      <td>RegulonDB_TF</td>\n",
       "    </tr>\n",
       "    <tr>\n",
       "      <th>1</th>\n",
       "      <td>RpoD</td>\n",
       "      <td>pheU</td>\n",
       "      <td>b4134</td>\n",
       "      <td>+</td>\n",
       "      <td>0.0</td>\n",
       "      <td>RegulonDB_sigma</td>\n",
       "    </tr>\n",
       "    <tr>\n",
       "      <th>2</th>\n",
       "      <td>RpoD</td>\n",
       "      <td>pheP</td>\n",
       "      <td>b0576</td>\n",
       "      <td>+</td>\n",
       "      <td>0.0</td>\n",
       "      <td>RegulonDB_sigma</td>\n",
       "    </tr>\n",
       "    <tr>\n",
       "      <th>3</th>\n",
       "      <td>RpoD</td>\n",
       "      <td>pheL</td>\n",
       "      <td>b2598</td>\n",
       "      <td>+</td>\n",
       "      <td>0.0</td>\n",
       "      <td>RegulonDB_sigma</td>\n",
       "    </tr>\n",
       "    <tr>\n",
       "      <th>4</th>\n",
       "      <td>RpoD</td>\n",
       "      <td>pheA</td>\n",
       "      <td>b2599</td>\n",
       "      <td>+</td>\n",
       "      <td>0.0</td>\n",
       "      <td>RegulonDB_sigma</td>\n",
       "    </tr>\n",
       "  </tbody>\n",
       "</table>\n",
       "</div>"
      ],
      "text/plain": [
       "  regulator gene_name gene_id effect  evidence           source\n",
       "0      AccB      accB   b3255      -       0.0     RegulonDB_TF\n",
       "1      RpoD      pheU   b4134      +       0.0  RegulonDB_sigma\n",
       "2      RpoD      pheP   b0576      +       0.0  RegulonDB_sigma\n",
       "3      RpoD      pheL   b2598      +       0.0  RegulonDB_sigma\n",
       "4      RpoD      pheA   b2599      +       0.0  RegulonDB_sigma"
      ]
     },
     "execution_count": 5,
     "metadata": {},
     "output_type": "execute_result"
    }
   ],
   "source": [
    "df_trn = pd.read_csv(path.join(annotation_dir,'TRN.csv'))\n",
    "df_trn.head()"
   ]
  },
  {
   "cell_type": "markdown",
   "metadata": {},
   "source": [
    "The `regulator` and `gene_id` must be filled in for each row"
   ]
  },
  {
   "cell_type": "code",
   "execution_count": 6,
   "metadata": {},
   "outputs": [
    {
     "name": "stdout",
     "output_type": "stream",
     "text": [
      "True\n",
      "True\n"
     ]
    }
   ],
   "source": [
    "print(df_trn.regulator.notnull().all())\n",
    "print(df_trn.gene_id.notnull().all())"
   ]
  },
  {
   "cell_type": "markdown",
   "metadata": {},
   "source": [
    "# Create IcaData"
   ]
  },
  {
   "cell_type": "code",
   "execution_count": 7,
   "metadata": {},
   "outputs": [
    {
     "name": "stderr",
     "output_type": "stream",
     "text": [
      "WARNING:root:The characters '+' and '/' are used for combining regulons and cannot be in regulator names. These characters will be replaced with ';'\n",
      "WARNING:root:The following genes are in the TRN but not in your M matrix: {'b3977', 'b2598', 'b1666', 'b4370', 'b0769', 'b0371', 'b3278', 'b2691', 'b4764', 'b4426', 'b4670', 'b0204', 'b2588', 'b4008', 'b2589', 'b4164', 'b4368', 'b4586', 'b0665', 'b1032', 'b3969', 'b4441', 'b4427', 'b4007', 'b3978', 'b0645', 'b0536', 'b3069', 'b4505', 'b3971', 'b3138', 'b4435', 'b3796', 'b3798', 'b2692', 'b2856', 'b2652', 'b3976', 'b0303', 'b4412', 'b3171', 'b4513', 'b4611', 'b4718', 'b4669', 'b1365', 'b1977', 'b0971', 'b4440', 'b1909', 'b3174', 'b1470', 'b3889', 'b0664', 'b0672', 'b4408', 'b3123', 'b3707', 'b3274', 'b0668', 'b2621', 'b4454', 'b4524', 'b3756', 'b4685', 'b3272', 'b2694', 'b2339', 'b4617', 'b3968', 'b0673', 'b2403', 'b4438', 'b4722', 'b2815', 'b1455', 'b4436', 'b4719', 'b3275', 'b4698', 'b4452', 'b1569', 'b4429', 'b4163', 'b0001', 'b2591', 'b3759', 'b2915', 'b2462', 'b2814', 'b4687', 'b4625', 'b0201', 'b3276', 'b2018', 'b3758', 'b4763', 'b4762', 'b3854', 'b3273', 'b1954', 'b4608', 'b2402', 'b4637', 'b3853', 'b1715', 'b2228', 'b3443', 'b2401', 'b4699', 'b4432', 'b2404', 'b4134', 'b3545', 'b4414', 'b4664', 'b4759', 'b4702', 'b4592', 'b1576', 'b4691', 'b0364', 'b4457', 'b2911', 'b0044', 'b4433', 'b4665', 'b4741', 'b1348', 'b4666', 'b3979', 'b2397', 'b4437', 'b3766', 'b4707', 'b3797', 'b4415', 'b1231', 'b4716', 'b4442', 'b1417', 'b4597', 'b0670', 'b0075', 'b3970', 'b3851', 'b1472', 'b2189', 'b1575', 'b4445', 'b3852', 'b3330', 'b2693', 'b3672', 'b0744', 'b4736', 'b4413', 'b4431', 'b4663', 'b3046', 'b4609', 'b4673', 'b4613', 'b4803', 'b0743', 'b2967', 'b1265', 'b0202', 'b4009', 'b3855', 'b4640', 'b0244', 'b0745', 'b4760', 'b3392', 'b4451', 'b0553', 'b1975', 'b4717', 'b4624', 'b1911', 'b4421', 'b4577', 'b1986', 'b0205', 'b2816', 'b2348', 'b3277', 'b1510', 'b2396', 'b1229', 'b1665', 'b4443', 'b3489', 'b4450', 'b4459', 'b3757', 'b2849', 'b4667', 'b4618', 'b4444', 'b3658', 'b0216', 'b4697', 'b2695', 'b4416', 'b4369', 'b4447', 'b3864', 'b4439', 'b4585', 'b4417', 'b4010', 'b2864', 'b4449', 'b4270', 'b0883', 'b1230', 'b3799', 'b1572', 'b3027', 'b4668', 'b0203', 'b4165', 'b1910', 'b4456', 'b4599', 'b4704', 'b4616', 'b4458', 'b2590', 'b1989', 'b0666', 'b3119'}\n",
      "WARNING:root:Optimizing iModulon thresholds, may take 2-3 minutes...\n"
     ]
    }
   ],
   "source": [
    "ica_data = IcaData(\n",
    "    M=path.join(data_dir,'M.csv'),\n",
    "    A=path.join(data_dir,'A.csv'),\n",
    "    gene_table=path.join(annotation_dir,'gene_info.csv'),\n",
    "    sample_table=path.join(data_dir,'metadata_qc.csv'),\n",
    "    trn=path.join(annotation_dir,'TRN.csv'),\n",
    "    optimize_cutoff=True\n",
    ")"
   ]
  },
  {
   "cell_type": "markdown",
   "metadata": {},
   "source": [
    "# TRN Enrichment\n",
    "Use `compute_trn_enrichment` to automatically check for Regulatory iModulons. The more complete your TRN, the more regulatory iModulons you'll find.\n",
    "\n",
    "For this automated step, use strict cutoff for evidence required (can loosen later during manual annotation)"
   ]
  },
  {
   "cell_type": "code",
   "execution_count": 8,
   "metadata": {},
   "outputs": [
    {
     "data": {
      "text/html": [
       "<div>\n",
       "<style scoped>\n",
       "    .dataframe tbody tr th:only-of-type {\n",
       "        vertical-align: middle;\n",
       "    }\n",
       "\n",
       "    .dataframe tbody tr th {\n",
       "        vertical-align: top;\n",
       "    }\n",
       "\n",
       "    .dataframe thead th {\n",
       "        text-align: right;\n",
       "    }\n",
       "</style>\n",
       "<table border=\"1\" class=\"dataframe\">\n",
       "  <thead>\n",
       "    <tr style=\"text-align: right;\">\n",
       "      <th></th>\n",
       "      <th>imodulon</th>\n",
       "      <th>regulator</th>\n",
       "      <th>pvalue</th>\n",
       "      <th>qvalue</th>\n",
       "      <th>precision</th>\n",
       "      <th>recall</th>\n",
       "      <th>f1score</th>\n",
       "      <th>TP</th>\n",
       "      <th>regulon_size</th>\n",
       "      <th>imodulon_size</th>\n",
       "      <th>n_regs</th>\n",
       "    </tr>\n",
       "  </thead>\n",
       "  <tbody>\n",
       "    <tr>\n",
       "      <th>0</th>\n",
       "      <td>PhoB-1</td>\n",
       "      <td>PhoB/RcsB-BglJ</td>\n",
       "      <td>2.674330e-18</td>\n",
       "      <td>9.605658e-14</td>\n",
       "      <td>1.000000</td>\n",
       "      <td>0.176471</td>\n",
       "      <td>0.300000</td>\n",
       "      <td>9.0</td>\n",
       "      <td>51.0</td>\n",
       "      <td>9.0</td>\n",
       "      <td>2.0</td>\n",
       "    </tr>\n",
       "    <tr>\n",
       "      <th>1</th>\n",
       "      <td>PhoB-1</td>\n",
       "      <td>LeuO/PhoB</td>\n",
       "      <td>1.299505e-17</td>\n",
       "      <td>2.333781e-13</td>\n",
       "      <td>1.000000</td>\n",
       "      <td>0.150000</td>\n",
       "      <td>0.260870</td>\n",
       "      <td>9.0</td>\n",
       "      <td>60.0</td>\n",
       "      <td>9.0</td>\n",
       "      <td>2.0</td>\n",
       "    </tr>\n",
       "    <tr>\n",
       "      <th>2</th>\n",
       "      <td>PhoB-1</td>\n",
       "      <td>PhoB</td>\n",
       "      <td>1.152220e-15</td>\n",
       "      <td>1.379515e-11</td>\n",
       "      <td>0.888889</td>\n",
       "      <td>0.170213</td>\n",
       "      <td>0.285714</td>\n",
       "      <td>8.0</td>\n",
       "      <td>47.0</td>\n",
       "      <td>9.0</td>\n",
       "      <td>1.0</td>\n",
       "    </tr>\n",
       "    <tr>\n",
       "      <th>3</th>\n",
       "      <td>PhoB-1</td>\n",
       "      <td>PhoB/Fis</td>\n",
       "      <td>7.859389e-15</td>\n",
       "      <td>7.057339e-11</td>\n",
       "      <td>1.000000</td>\n",
       "      <td>0.076271</td>\n",
       "      <td>0.141732</td>\n",
       "      <td>9.0</td>\n",
       "      <td>118.0</td>\n",
       "      <td>9.0</td>\n",
       "      <td>2.0</td>\n",
       "    </tr>\n",
       "    <tr>\n",
       "      <th>4</th>\n",
       "      <td>PhoB-1</td>\n",
       "      <td>IHF+PhoB</td>\n",
       "      <td>1.144609e-14</td>\n",
       "      <td>8.222416e-11</td>\n",
       "      <td>0.555556</td>\n",
       "      <td>1.000000</td>\n",
       "      <td>0.714286</td>\n",
       "      <td>5.0</td>\n",
       "      <td>5.0</td>\n",
       "      <td>9.0</td>\n",
       "      <td>2.0</td>\n",
       "    </tr>\n",
       "    <tr>\n",
       "      <th>...</th>\n",
       "      <td>...</td>\n",
       "      <td>...</td>\n",
       "      <td>...</td>\n",
       "      <td>...</td>\n",
       "      <td>...</td>\n",
       "      <td>...</td>\n",
       "      <td>...</td>\n",
       "      <td>...</td>\n",
       "      <td>...</td>\n",
       "      <td>...</td>\n",
       "      <td>...</td>\n",
       "    </tr>\n",
       "    <tr>\n",
       "      <th>1115</th>\n",
       "      <td>PspF</td>\n",
       "      <td>CpxR/PspF</td>\n",
       "      <td>4.207558e-12</td>\n",
       "      <td>5.037148e-08</td>\n",
       "      <td>1.000000</td>\n",
       "      <td>0.107143</td>\n",
       "      <td>0.193548</td>\n",
       "      <td>6.0</td>\n",
       "      <td>56.0</td>\n",
       "      <td>6.0</td>\n",
       "      <td>2.0</td>\n",
       "    </tr>\n",
       "    <tr>\n",
       "      <th>1116</th>\n",
       "      <td>PspF</td>\n",
       "      <td>IHF+PspF</td>\n",
       "      <td>5.730405e-12</td>\n",
       "      <td>5.145187e-08</td>\n",
       "      <td>0.666667</td>\n",
       "      <td>0.800000</td>\n",
       "      <td>0.727273</td>\n",
       "      <td>4.0</td>\n",
       "      <td>5.0</td>\n",
       "      <td>6.0</td>\n",
       "      <td>2.0</td>\n",
       "    </tr>\n",
       "    <tr>\n",
       "      <th>1117</th>\n",
       "      <td>ComR/MarR</td>\n",
       "      <td>ComR/MarR</td>\n",
       "      <td>1.605124e-11</td>\n",
       "      <td>5.765605e-07</td>\n",
       "      <td>0.400000</td>\n",
       "      <td>1.000000</td>\n",
       "      <td>0.571429</td>\n",
       "      <td>4.0</td>\n",
       "      <td>4.0</td>\n",
       "      <td>10.0</td>\n",
       "      <td>2.0</td>\n",
       "    </tr>\n",
       "    <tr>\n",
       "      <th>1118</th>\n",
       "      <td>262</td>\n",
       "      <td>BetI/YieP</td>\n",
       "      <td>1.372171e-13</td>\n",
       "      <td>4.928013e-09</td>\n",
       "      <td>0.833333</td>\n",
       "      <td>0.500000</td>\n",
       "      <td>0.625000</td>\n",
       "      <td>5.0</td>\n",
       "      <td>10.0</td>\n",
       "      <td>6.0</td>\n",
       "      <td>2.0</td>\n",
       "    </tr>\n",
       "    <tr>\n",
       "      <th>1119</th>\n",
       "      <td>262</td>\n",
       "      <td>BetI</td>\n",
       "      <td>1.146517e-12</td>\n",
       "      <td>2.058801e-08</td>\n",
       "      <td>0.666667</td>\n",
       "      <td>1.000000</td>\n",
       "      <td>0.800000</td>\n",
       "      <td>4.0</td>\n",
       "      <td>4.0</td>\n",
       "      <td>6.0</td>\n",
       "      <td>1.0</td>\n",
       "    </tr>\n",
       "  </tbody>\n",
       "</table>\n",
       "<p>1120 rows × 11 columns</p>\n",
       "</div>"
      ],
      "text/plain": [
       "       imodulon       regulator        pvalue        qvalue  precision  \\\n",
       "0        PhoB-1  PhoB/RcsB-BglJ  2.674330e-18  9.605658e-14   1.000000   \n",
       "1        PhoB-1       LeuO/PhoB  1.299505e-17  2.333781e-13   1.000000   \n",
       "2        PhoB-1            PhoB  1.152220e-15  1.379515e-11   0.888889   \n",
       "3        PhoB-1        PhoB/Fis  7.859389e-15  7.057339e-11   1.000000   \n",
       "4        PhoB-1        IHF+PhoB  1.144609e-14  8.222416e-11   0.555556   \n",
       "...         ...             ...           ...           ...        ...   \n",
       "1115       PspF       CpxR/PspF  4.207558e-12  5.037148e-08   1.000000   \n",
       "1116       PspF        IHF+PspF  5.730405e-12  5.145187e-08   0.666667   \n",
       "1117  ComR/MarR       ComR/MarR  1.605124e-11  5.765605e-07   0.400000   \n",
       "1118        262       BetI/YieP  1.372171e-13  4.928013e-09   0.833333   \n",
       "1119        262            BetI  1.146517e-12  2.058801e-08   0.666667   \n",
       "\n",
       "        recall   f1score   TP  regulon_size  imodulon_size  n_regs  \n",
       "0     0.176471  0.300000  9.0          51.0            9.0     2.0  \n",
       "1     0.150000  0.260870  9.0          60.0            9.0     2.0  \n",
       "2     0.170213  0.285714  8.0          47.0            9.0     1.0  \n",
       "3     0.076271  0.141732  9.0         118.0            9.0     2.0  \n",
       "4     1.000000  0.714286  5.0           5.0            9.0     2.0  \n",
       "...        ...       ...  ...           ...            ...     ...  \n",
       "1115  0.107143  0.193548  6.0          56.0            6.0     2.0  \n",
       "1116  0.800000  0.727273  4.0           5.0            6.0     2.0  \n",
       "1117  1.000000  0.571429  4.0           4.0           10.0     2.0  \n",
       "1118  0.500000  0.625000  5.0          10.0            6.0     2.0  \n",
       "1119  1.000000  0.800000  4.0           4.0            6.0     1.0  \n",
       "\n",
       "[1120 rows x 11 columns]"
      ]
     },
     "execution_count": 8,
     "metadata": {},
     "output_type": "execute_result"
    }
   ],
   "source": [
    "ica_data.compute_trn_enrichment(max_regs=2, evidence=[1, 2], save=True)"
   ]
  },
  {
   "cell_type": "markdown",
   "metadata": {},
   "source": [
    "# Single-Gene-Dominant iModulons"
   ]
  },
  {
   "cell_type": "code",
   "execution_count": 9,
   "metadata": {},
   "outputs": [],
   "source": [
    "sg_imods = ica_data.find_single_gene_imodulons(save=True)"
   ]
  },
  {
   "cell_type": "code",
   "execution_count": 10,
   "metadata": {},
   "outputs": [],
   "source": [
    "for sg_mod in sg_imods:\n",
    "    sg_name = ica_data.view_imodulon(sg_mod).sort_values(\n",
    "        by='gene_weight', ascending=False).iloc[0, :]['gene_name']\n",
    "    ica_data.rename_imodulons({sg_mod:f'{sg_name}'})"
   ]
  },
  {
   "cell_type": "markdown",
   "metadata": {
    "tags": []
   },
   "source": [
    "# iModulon Names\n",
    "\n",
    "Convenient to string-ify all names so as not to have a mix of strings and ints in the index"
   ]
  },
  {
   "cell_type": "code",
   "execution_count": 12,
   "metadata": {},
   "outputs": [],
   "source": [
    "rename_dict = {}\n",
    "for im_name in ica_data.imodulon_names:\n",
    "    if isinstance(im_name, int):\n",
    "        rename_dict[im_name] = str(im_name)\n",
    "ica_data.rename_imodulons(rename_dict)"
   ]
  },
  {
   "cell_type": "markdown",
   "metadata": {},
   "source": [
    "# Explained Variance"
   ]
  },
  {
   "cell_type": "code",
   "execution_count": 18,
   "metadata": {},
   "outputs": [],
   "source": [
    "exp_vars = [explained_variance(ica_data, imodulons=[imod]) for imod in ica_data.imodulon_names]"
   ]
  },
  {
   "cell_type": "code",
   "execution_count": 19,
   "metadata": {},
   "outputs": [],
   "source": [
    "ica_data.imodulon_table['exp_var'] = exp_vars"
   ]
  },
  {
   "cell_type": "markdown",
   "metadata": {},
   "source": [
    "# iModulon Size"
   ]
  },
  {
   "cell_type": "code",
   "execution_count": 20,
   "metadata": {},
   "outputs": [],
   "source": [
    "ica_data.imodulon_table['imodulon_size'] = [ica_data.view_imodulon(imod).shape[0]\n",
    "                                            for imod in ica_data.imodulon_names]"
   ]
  },
  {
   "cell_type": "markdown",
   "metadata": {},
   "source": [
    "# PRECISE and PRECISE 2.0 Comparison"
   ]
  },
  {
   "cell_type": "markdown",
   "metadata": {
    "tags": []
   },
   "source": [
    "## Load Previous Datasets"
   ]
  },
  {
   "cell_type": "code",
   "execution_count": 9,
   "metadata": {},
   "outputs": [],
   "source": [
    "precise1 = load_json_model('../../data/precise/precise.json.gz')\n",
    "precise2 = load_json_model('../../data/precise2/precise2.json.gz')"
   ]
  },
  {
   "cell_type": "markdown",
   "metadata": {
    "tags": []
   },
   "source": [
    "## Run Correlation Comparisons"
   ]
  },
  {
   "cell_type": "code",
   "execution_count": null,
   "metadata": {},
   "outputs": [],
   "source": [
    "match_rows = []\n",
    "for match in compare_ica(precise1.M, ica_data.M, method='pearson')[0]:\n",
    "    match_rows.append({\n",
    "        'dataset': 'PRECISE',\n",
    "        'iM': match[0],\n",
    "        'p1k_im': match[1],\n",
    "        'method': 'pearson',\n",
    "        'corr': match[2]\n",
    "    })\n",
    "for match in compare_ica(precise1.M, ica_data.M, method='spearman')[0]:\n",
    "    match_rows.append({\n",
    "        'dataset': 'PRECISE',\n",
    "        'iM': match[0],\n",
    "        'p1k_im': match[1],\n",
    "        'method': 'spearman',\n",
    "        'corr': match[2]\n",
    "    })\n",
    "for match in compare_ica(precise2.M, ica_data.M, method='pearson')[0]:\n",
    "    match_rows.append({\n",
    "        'dataset': 'PRECISE 2.0',\n",
    "        'iM': match[0],\n",
    "        'p1k_im': match[1],\n",
    "        'method': 'pearson',\n",
    "        'corr': match[2]\n",
    "    })\n",
    "for match in compare_ica(precise2.M, ica_data.M, method='spearman')[0]:\n",
    "    match_rows.append({\n",
    "        'dataset': 'PRECISE 2.0',\n",
    "        'iM': match[0],\n",
    "        'p1k_im': match[1],\n",
    "        'method': 'spearman',\n",
    "        'corr': match[2]\n",
    "    })\n",
    "    \n",
    "match_df = pd.DataFrame(match_rows)"
   ]
  },
  {
   "cell_type": "code",
   "execution_count": null,
   "metadata": {},
   "outputs": [],
   "source": [
    "def p1name(row):\n",
    "    if row['dataset'] == 'PRECISE':\n",
    "        return precise1.imodulon_table.loc[row['iM'], 'name']\n",
    "    else:\n",
    "        return row['iM']\n",
    "match_df['iM'] = match_df.apply(p1name, axis=1)"
   ]
  },
  {
   "cell_type": "code",
   "execution_count": null,
   "metadata": {},
   "outputs": [],
   "source": [
    "for im, im_row in ica_data.imodulon_table.iterrows():\n",
    "    im_match = match_df[match_df['p1k_im'] == im]\n",
    "    if not im_match.empty:\n",
    "        for dataset, dataset_match_df in im_match.groupby('dataset'):\n",
    "            max_corr = np.argmax(dataset_match_df['corr'])\n",
    "            max_corr_im = dataset_match_df.iloc[max_corr]['iM']\n",
    "            max_corr_im_df = dataset_match_df[dataset_match_df['iM'] == max_corr_im]\n",
    "            for _, max_corr_row in max_corr_im_df.iterrows():\n",
    "                ica_data.imodulon_table.loc[im, max_corr_row['dataset']] = max_corr_row['iM']\n",
    "                ica_data.imodulon_table.loc[im, f\"{max_corr_row['dataset']}_{max_corr_row['method']}\"] = max_corr_row['corr']"
   ]
  },
  {
   "cell_type": "markdown",
   "metadata": {},
   "source": [
    "# Re-Save M/A Matrices and iModulon Table"
   ]
  },
  {
   "cell_type": "code",
   "execution_count": 21,
   "metadata": {},
   "outputs": [],
   "source": [
    "ica_data.imodulon_table.to_csv(path.join(data_dir,'imodulon_table.csv'))\n",
    "ica_data.A.to_csv(path.join(data_dir,'A.csv'))\n",
    "ica_data.M.to_csv(path.join(data_dir,'M.csv'))"
   ]
  },
  {
   "cell_type": "markdown",
   "metadata": {},
   "source": [
    "# Save IcaData Object"
   ]
  },
  {
   "cell_type": "markdown",
   "metadata": {},
   "source": [
    "This will save your iModulon table, your thresholds, and any other information stored in the ica_data object."
   ]
  },
  {
   "cell_type": "code",
   "execution_count": 22,
   "metadata": {},
   "outputs": [],
   "source": [
    "save_to_json(ica_data, path.join(data_dir,'precise1k'), compress=True)"
   ]
  }
 ],
 "metadata": {
  "kernelspec": {
   "display_name": "Python 3 (ipykernel)",
   "language": "python",
   "name": "python3"
  },
  "language_info": {
   "codemirror_mode": {
    "name": "ipython",
    "version": 3
   },
   "file_extension": ".py",
   "mimetype": "text/x-python",
   "name": "python",
   "nbconvert_exporter": "python",
   "pygments_lexer": "ipython3",
   "version": "3.10.2"
  },
  "toc": {
   "base_numbering": 1,
   "nav_menu": {},
   "number_sections": true,
   "sideBar": true,
   "skip_h1_title": false,
   "title_cell": "Table of Contents",
   "title_sidebar": "Contents",
   "toc_cell": true,
   "toc_position": {},
   "toc_section_display": true,
   "toc_window_display": true
  }
 },
 "nbformat": 4,
 "nbformat_minor": 4
}
