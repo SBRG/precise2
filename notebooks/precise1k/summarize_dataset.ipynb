{
 "cells": [
  {
   "cell_type": "markdown",
   "id": "e795b034-f2c5-48df-9f46-6cb1efacfda4",
   "metadata": {},
   "source": [
    "# Import Packages"
   ]
  },
  {
   "cell_type": "code",
   "execution_count": 1,
   "id": "6eb5f9f6-c541-44c3-a03f-2e678b8c9b14",
   "metadata": {},
   "outputs": [],
   "source": [
    "# built-in\n",
    "from datetime import datetime, timedelta\n",
    "import os.path\n",
    "\n",
    "# third-party (pip install required)\n",
    "import matplotlib\n",
    "from matplotlib.lines import Line2D\n",
    "import matplotlib.pyplot as plt\n",
    "import pandas as pd\n",
    "from pymodulon.io import load_json_model\n",
    "\n",
    "# set matplotlib params\n",
    "matplotlib.rcParams['pdf.fonttype'] = 42\n",
    "matplotlib.rcParams['ps.fonttype'] = 42\n",
    "matplotlib.rcParams['text.color'] = 'black'\n",
    "matplotlib.rcParams['axes.labelcolor'] = 'black'\n",
    "matplotlib.rcParams['xtick.color'] = 'black'\n",
    "matplotlib.rcParams['ytick.color'] = 'black'\n",
    "matplotlib.rcParams['font.sans-serif'] = \"Arial\"\n",
    "matplotlib.rcParams['font.family'] = \"sans-serif\""
   ]
  },
  {
   "cell_type": "markdown",
   "id": "5c697a8b-0d94-43ef-9cdf-4a5590f8bc0b",
   "metadata": {},
   "source": [
    "# Load Data"
   ]
  },
  {
   "cell_type": "code",
   "execution_count": 2,
   "id": "69024c73-93a6-4708-9aa8-d8db86cc0ebc",
   "metadata": {},
   "outputs": [],
   "source": [
    "PRECISE_PATH = '../../data/precise/'\n",
    "P1K_PATH = '../../data/precise1k/'\n",
    "FIG_PATH =  'summarize_dataset_figs'"
   ]
  },
  {
   "cell_type": "code",
   "execution_count": 3,
   "id": "1a581418-c780-403b-b900-b5425a2f762e",
   "metadata": {},
   "outputs": [],
   "source": [
    "precise1 = load_json_model(os.path.join(PRECISE_PATH, 'precise.json.gz'))\n",
    "p1k = load_json_model(os.path.join(P1K_PATH, 'precise1k.json.gz'))"
   ]
  },
  {
   "cell_type": "markdown",
   "id": "c7897101-084e-4c62-924f-9f79fafd6f45",
   "metadata": {},
   "source": [
    "# Dataset Growth"
   ]
  },
  {
   "cell_type": "code",
   "execution_count": 106,
   "id": "f93f010b-d8d2-4fd2-98ac-152097555c9c",
   "metadata": {},
   "outputs": [
    {
     "name": "stderr",
     "output_type": "stream",
     "text": [
      "/var/folders/q2/bdjskmzs1n9fbb14bmvhdz500000gn/T/ipykernel_83447/2621842418.py:39: FutureWarning: The frame.append method is deprecated and will be removed from pandas in a future version. Use pandas.concat instead.\n",
      "  all_df = all_df.append({\n"
     ]
    }
   ],
   "source": [
    "precise_metadata_sorted = precise1.sample_table.sort_values('run_date')\n",
    "p1k_metadata_sorted = p1k.sample_table.sort_values('run_date')\n",
    "\n",
    "order = pd.DataFrame(precise_metadata_sorted.study.unique(), columns = ['study'])\n",
    "counts = pd.DataFrame(precise_metadata_sorted.groupby(['study']).count()['condition'])\n",
    "new_1= order.merge(counts, on = 'study')\n",
    "\n",
    "order = pd.DataFrame(p1k_metadata_sorted.study.unique(), columns = ['study'])\n",
    "counts = pd.DataFrame(p1k_metadata_sorted.groupby(['study']).count()['condition'])\n",
    "new_2 = order.merge(counts, on = 'study')\n",
    "\n",
    "precise_metadata_sorted[\"Version\"] = \"PRECISE\"\n",
    "p1k_metadata_sorted[\"Version\"] = \"PRECISE-1000\"\n",
    "\n",
    "all_df = pd.concat([precise_metadata_sorted, p1k_metadata_sorted])\n",
    "all_df['run_date']= pd.to_datetime(all_df['run_date'])\n",
    "all_df = all_df.sort_values('run_date')\n",
    "all_df['Cumulative_Condition_Count'] = [i+1 for i in range(len(all_df))]\n",
    "\n",
    "p1_cum = []\n",
    "counter = 0\n",
    "for i in all_df.Version:\n",
    "    if i == 'PRECISE':\n",
    "        counter += 1\n",
    "    p1_cum.append(counter)\n",
    "    \n",
    "all_df[\"cumulative_P1\"] = p1_cum\n",
    "\n",
    "p1k_cum = []\n",
    "counter = 0\n",
    "for i in all_df.Version:\n",
    "    if i == 'PRECISE-1000':\n",
    "        counter += 1\n",
    "    p1k_cum.append(counter)\n",
    "    \n",
    "all_df[\"cumulative_P1K\"] = p1k_cum\n",
    "\n",
    "# add a dummy row to get to 2021\n",
    "all_df = all_df.append({\n",
    "    'run_date': datetime(2021,6,1), 'cumulative_P1K': all_df['cumulative_P1K'].max(), 'cumulative_P1': all_df['cumulative_P1'].max()\n",
    "}, ignore_index=True)"
   ]
  },
  {
   "cell_type": "code",
   "execution_count": 118,
   "id": "87e47f39-2fed-415d-b05b-64dd2fd54d8f",
   "metadata": {},
   "outputs": [
    {
     "data": {
      "image/png": "[encoded data removed]",
      "text/plain": [
       "<Figure size 144x144 with 1 Axes>"
      ]
     },
     "metadata": {
      "needs_background": "light"
     },
     "output_type": "display_data"
    }
   ],
   "source": [
    "fig, ax = plt.subplots(figsize = (2,2))\n",
    "ax.set_ylim(0,1060)\n",
    "ax.set_xlim(min(all_df.run_date), max(all_df.run_date))\n",
    "plt.fill_between(all_df.run_date, all_df.cumulative_P1K, color = 'darkmagenta', alpha=0.5,lw=2)\n",
    "plt.fill_between(all_df.run_date, all_df.cumulative_P1, color = 'deepskyblue', alpha=0.5, lw=2)\n",
    "ax.set_ylabel('# of Samples', fontsize=9)\n",
    "ax.set_yticks([250, 500, 750, 1000])\n",
    "markerline, stemlines, baseline = ax.stem(\n",
    "    [datetime(2017, 3, 1), datetime(2019, 12, 4), datetime(2021, 1, 8)], [400, 600, 800]\n",
    ")\n",
    "plt.setp(stemlines, 'linewidth', 0.5)\n",
    "plt.setp(markerline, 'markersize', 2)\n",
    "plt.setp(markerline, 'color', 'k')\n",
    "plt.setp(stemlines, 'color', 'k')\n",
    "ax.text(datetime(2017, 3, 1)-timedelta(50), 400, 'First iModulons\\nComputed', ha='right', fontsize=8)\n",
    "ax.text(datetime(2019, 12, 4)-timedelta(50), 600, 'PRECISE Published', ha='right', fontsize=8)\n",
    "ax.text(datetime(2021, 1, 8)-timedelta(50), 800, 'iModulonDB', ha='right', fontsize=8)\n",
    "custom_lines = [Line2D([0], [0], color='#619fe1', lw=4),\n",
    "                Line2D([0], [0], color='#b763b7', lw=4)]\n",
    "name = ['PRECISE', 'P1K']\n",
    "args = {'handles':custom_lines,'labels':name,'loc':2,'ncol':2,\n",
    "        'bbox_to_anchor':(0,1.2),'fontsize':8}\n",
    "ax.legend(**args,  columnspacing=1, handletextpad=.4,\n",
    "          frameon=False, labelspacing=0.11)\n",
    "\n",
    "ax.axhline(y=(1033), xmax=1, color ='#b763b7', linestyle = '--', linewidth = 1)\n",
    "ax.text(all_df.run_date.iloc[15],960,s=' 1033', fontsize =8, color ='#b763b7')\n",
    "ax.axhline(y=(278), color ='#619fe1', linestyle = '--', linewidth = 1)\n",
    "ax.text(all_df.run_date.iloc[15],300,s=' 278', fontsize =8, color ='#619fe1')\n",
    "\n",
    "for s in ax.spines.values():\n",
    "    s.set_color('black')\n",
    "    s.set_linewidth(1.5)\n",
    "\n",
    "ax.tick_params(axis='x', rotation=90, labelsize=8)\n",
    "plt.savefig(os.path.join(FIG_PATH, 'dataset_growth.svg'), dpi = 400, bbox_inches = 'tight')\n",
    "plt.savefig(os.path.join(FIG_PATH, 'dataset_growth.png'), dpi = 400, bbox_inches = 'tight')"
   ]
  },
  {
   "cell_type": "code",
   "execution_count": null,
   "id": "481d87c9-8164-48f8-9601-92514ac00d42",
   "metadata": {},
   "outputs": [],
   "source": [
    "p1k.sample_table['Electron Acceptor'].value_counts()"
   ]
  },
  {
   "cell_type": "code",
   "execution_count": null,
   "id": "b01e88a4-da15-4d3b-a606-ed85d22a15d7",
   "metadata": {},
   "outputs": [],
   "source": []
  }
 ],
 "metadata": {
  "kernelspec": {
   "display_name": "Python 3 (ipykernel)",
   "language": "python",
   "name": "python3"
  },
  "language_info": {
   "codemirror_mode": {
    "name": "ipython",
    "version": 3
   },
   "file_extension": ".py",
   "mimetype": "text/x-python",
   "name": "python",
   "nbconvert_exporter": "python",
   "pygments_lexer": "ipython3",
   "version": "3.10.2"
  }
 },
 "nbformat": 4,
 "nbformat_minor": 5
}
