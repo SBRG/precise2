{
 "cells": [
  {
   "cell_type": "markdown",
   "metadata": {
    "toc": true
   },
   "source": [
    "<h1>Table of Contents<span class=\"tocSkip\"></span></h1>\n",
    "<div class=\"toc\"><ul class=\"toc-item\"><li><span><a href=\"#Get-information-from-GFF-file\" data-toc-modified-id=\"Get-information-from-GFF-file-1\"><span class=\"toc-item-num\">1&nbsp;&nbsp;</span>Get information from GFF file</a></span><ul class=\"toc-item\"><li><span><a href=\"#Convert-GFF-to-Pandas-DataFrame\" data-toc-modified-id=\"Convert-GFF-to-Pandas-DataFrame-1.1\"><span class=\"toc-item-num\">1.1&nbsp;&nbsp;</span>Convert GFF to Pandas DataFrame</a></span></li></ul></li><li><span><a href=\"#KEGG-and-COGs\" data-toc-modified-id=\"KEGG-and-COGs-2\"><span class=\"toc-item-num\">2&nbsp;&nbsp;</span>KEGG and COGs</a></span><ul class=\"toc-item\"><li><span><a href=\"#Generate-nucleotide-fasta-files-for-CDS\" data-toc-modified-id=\"Generate-nucleotide-fasta-files-for-CDS-2.1\"><span class=\"toc-item-num\">2.1&nbsp;&nbsp;</span>Generate nucleotide fasta files for CDS</a></span></li><li><span><a href=\"#Run-EggNOG-Mapper\" data-toc-modified-id=\"Run-EggNOG-Mapper-2.2\"><span class=\"toc-item-num\">2.2&nbsp;&nbsp;</span>Run EggNOG Mapper</a></span></li><li><span><a href=\"#Get-KEGG-attributes\" data-toc-modified-id=\"Get-KEGG-attributes-2.3\"><span class=\"toc-item-num\">2.3&nbsp;&nbsp;</span>Get KEGG attributes</a></span></li><li><span><a href=\"#Save-KEGG-information\" data-toc-modified-id=\"Save-KEGG-information-2.4\"><span class=\"toc-item-num\">2.4&nbsp;&nbsp;</span>Save KEGG information</a></span></li><li><span><a href=\"#Save-COGs-to-annotation-dataframe\" data-toc-modified-id=\"Save-COGs-to-annotation-dataframe-2.5\"><span class=\"toc-item-num\">2.5&nbsp;&nbsp;</span>Save COGs to annotation dataframe</a></span></li></ul></li><li><span><a href=\"#Uniprot-ID-mapping\" data-toc-modified-id=\"Uniprot-ID-mapping-3\"><span class=\"toc-item-num\">3&nbsp;&nbsp;</span>Uniprot ID mapping</a></span></li><li><span><a href=\"#Clean-up-and-save-annotation\" data-toc-modified-id=\"Clean-up-and-save-annotation-4\"><span class=\"toc-item-num\">4&nbsp;&nbsp;</span>Clean up and save annotation</a></span><ul class=\"toc-item\"><li><span><a href=\"#Final-statistics\" data-toc-modified-id=\"Final-statistics-4.1\"><span class=\"toc-item-num\">4.1&nbsp;&nbsp;</span>Final statistics</a></span></li><li><span><a href=\"#Fill-missing-values\" data-toc-modified-id=\"Fill-missing-values-4.2\"><span class=\"toc-item-num\">4.2&nbsp;&nbsp;</span>Fill missing values</a></span></li></ul></li><li><span><a href=\"#GO-Annotations\" data-toc-modified-id=\"GO-Annotations-5\"><span class=\"toc-item-num\">5&nbsp;&nbsp;</span>GO Annotations</a></span></li></ul></div>"
   ]
  },
  {
   "cell_type": "code",
   "execution_count": 1,
   "metadata": {},
   "outputs": [],
   "source": [
    "import sys\n",
    "sys.path.append('../../../../gh/pymodulon/') #file path specific to Katherine"
   ]
  },
  {
   "cell_type": "code",
   "execution_count": 2,
   "metadata": {},
   "outputs": [],
   "source": [
    "from pymodulon.gene_util import *\n",
    "import os\n",
    "from Bio import SeqIO"
   ]
  },
  {
   "cell_type": "code",
   "execution_count": 3,
   "metadata": {},
   "outputs": [],
   "source": [
    "org_dir = '../../data'\n",
    "kegg_organism_code = 'eco'\n",
    "seq_dir = os.path.join(org_dir,'sequence_files')"
   ]
  },
  {
   "cell_type": "markdown",
   "metadata": {},
   "source": [
    "# Get information from GFF file"
   ]
  },
  {
   "cell_type": "markdown",
   "metadata": {},
   "source": [
    "## Convert GFF to Pandas DataFrame"
   ]
  },
  {
   "cell_type": "code",
   "execution_count": 4,
   "metadata": {},
   "outputs": [],
   "source": [
    "annot_list = []\n",
    "for filename in os.listdir(seq_dir):\n",
    "    if filename.endswith('.gff3'):\n",
    "        gff = os.path.join(seq_dir,filename)\n",
    "        annot_list.append(gff2pandas(gff))\n",
    "keep_cols = ['refseq','start','end','strand','gene_name','locus_tag','old_locus_tag','gene_product','ncbi_protein']\n",
    "DF_annot = pd.concat(annot_list)[keep_cols]\n",
    "DF_annot = DF_annot.drop_duplicates('locus_tag')\n",
    "DF_annot.set_index('locus_tag',drop=True,inplace=True)"
   ]
  },
  {
   "cell_type": "code",
   "execution_count": 5,
   "metadata": {},
   "outputs": [],
   "source": [
    "tpm_file = os.path.join(org_dir,'featureCounts_data2','log_tpm_qc.csv')\n",
    "DF_log_tpm = pd.read_csv(tpm_file,index_col=0)"
   ]
  },
  {
   "cell_type": "markdown",
   "metadata": {},
   "source": [
    "Check that the genes are the same in the expression dataset as in the annotation dataframe."
   ]
  },
  {
   "cell_type": "code",
   "execution_count": 6,
   "metadata": {},
   "outputs": [
    {
     "data": {
      "text/html": [
       "<div>\n",
       "<style scoped>\n",
       "    .dataframe tbody tr th:only-of-type {\n",
       "        vertical-align: middle;\n",
       "    }\n",
       "\n",
       "    .dataframe tbody tr th {\n",
       "        vertical-align: top;\n",
       "    }\n",
       "\n",
       "    .dataframe thead th {\n",
       "        text-align: right;\n",
       "    }\n",
       "</style>\n",
       "<table border=\"1\" class=\"dataframe\">\n",
       "  <thead>\n",
       "    <tr style=\"text-align: right;\">\n",
       "      <th></th>\n",
       "      <th>refseq</th>\n",
       "      <th>start</th>\n",
       "      <th>end</th>\n",
       "      <th>strand</th>\n",
       "      <th>gene_name</th>\n",
       "      <th>old_locus_tag</th>\n",
       "      <th>gene_product</th>\n",
       "      <th>ncbi_protein</th>\n",
       "    </tr>\n",
       "    <tr>\n",
       "      <th>locus_tag</th>\n",
       "      <th></th>\n",
       "      <th></th>\n",
       "      <th></th>\n",
       "      <th></th>\n",
       "      <th></th>\n",
       "      <th></th>\n",
       "      <th></th>\n",
       "      <th></th>\n",
       "    </tr>\n",
       "  </thead>\n",
       "  <tbody>\n",
       "  </tbody>\n",
       "</table>\n",
       "</div>"
      ],
      "text/plain": [
       "Empty DataFrame\n",
       "Columns: [refseq, start, end, strand, gene_name, old_locus_tag, gene_product, ncbi_protein]\n",
       "Index: []"
      ]
     },
     "execution_count": 6,
     "metadata": {},
     "output_type": "execute_result"
    }
   ],
   "source": [
    "# Mismatched genes are listed below\n",
    "test = DF_annot.sort_index().index == DF_log_tpm.sort_index().index\n",
    "DF_annot[~test]"
   ]
  },
  {
   "cell_type": "markdown",
   "metadata": {},
   "source": [
    "# KEGG and COGs"
   ]
  },
  {
   "cell_type": "markdown",
   "metadata": {},
   "source": [
    "## Generate nucleotide fasta files for CDS"
   ]
  },
  {
   "cell_type": "code",
   "execution_count": 7,
   "metadata": {},
   "outputs": [],
   "source": [
    "cds_list = []\n",
    "for filename in os.listdir(seq_dir):\n",
    "    if filename.endswith('.fasta'):\n",
    "        fasta = os.path.join(seq_dir,filename)\n",
    "        seq = SeqIO.read(fasta,'fasta')\n",
    "        \n",
    "        # Get gene information for genes in this fasta file\n",
    "        df_genes = DF_annot[DF_annot.refseq == seq.id]\n",
    "        for i,row in df_genes.iterrows():\n",
    "            cds = seq[row.start-1:row.end]\n",
    "            if row.strand == '-':\n",
    "                cds = seq[row.start-1:row.end].reverse_complement()\n",
    "            cds.id = row.name\n",
    "            cds.description = row.gene_name if pd.notnull(row.gene_name) else row.name\n",
    "            cds_list.append(cds)"
   ]
  },
  {
   "cell_type": "code",
   "execution_count": 8,
   "metadata": {
    "scrolled": true
   },
   "outputs": [],
   "source": [
    "# SeqIO.write(cds_list,os.path.join(seq_dir,'CDS.fna'),'fasta')"
   ]
  },
  {
   "cell_type": "markdown",
   "metadata": {},
   "source": [
    "## Run EggNOG Mapper\n",
    "1. Go to http://eggnog-mapper.embl.de/.\n",
    "1. Upload the CDS.fna file from your organism directory (within the sequence_files folder)\n",
    "1. Make sure to limit the taxonomy to the correct level\n",
    "1. After the job is submitted, you must follow the link in your email to run the job.\n",
    "1. Once the job completes (after ~4 hrs), download the annotations file.\n",
    "1. Save the annotation file to `<org_dir>/data/eggNOG.annotations`"
   ]
  },
  {
   "cell_type": "markdown",
   "metadata": {},
   "source": [
    "## Get KEGG attributes"
   ]
  },
  {
   "cell_type": "code",
   "execution_count": 9,
   "metadata": {},
   "outputs": [],
   "source": [
    "DF_eggnog = pd.read_csv(os.path.join(org_dir,'annotation','eggNOG.annotations'),sep='\\t',skiprows=4,header=None)\n",
    "eggnog_cols = ['query_name','seed eggNOG ortholog','seed ortholog evalue','seed ortholog score',\n",
    "               'Predicted taxonomic group','Predicted protein name','Gene Ontology terms',\n",
    "               'EC number','KEGG_orth','KEGG_pathway','KEGG_module','KEGG_reaction',\n",
    "               'KEGG_rclass','BRITE','KEGG_TC','CAZy','BiGG Reaction','tax_scope',\n",
    "               'eggNOG OGs','bestOG_deprecated','COG','eggNOG free text description']\n",
    "\n",
    "DF_eggnog.columns = eggnog_cols\n",
    "\n",
    "# Strip last three rows as they are comments\n",
    "DF_eggnog = DF_eggnog.iloc[:-3]\n",
    "\n",
    "# Set locus tag as index\n",
    "DF_eggnog = DF_eggnog.set_index('query_name')\n",
    "DF_eggnog.index.name = 'locus_tag'"
   ]
  },
  {
   "cell_type": "code",
   "execution_count": 10,
   "metadata": {
    "scrolled": true
   },
   "outputs": [
    {
     "data": {
      "text/html": [
       "<div>\n",
       "<style scoped>\n",
       "    .dataframe tbody tr th:only-of-type {\n",
       "        vertical-align: middle;\n",
       "    }\n",
       "\n",
       "    .dataframe tbody tr th {\n",
       "        vertical-align: top;\n",
       "    }\n",
       "\n",
       "    .dataframe thead th {\n",
       "        text-align: right;\n",
       "    }\n",
       "</style>\n",
       "<table border=\"1\" class=\"dataframe\">\n",
       "  <thead>\n",
       "    <tr style=\"text-align: right;\">\n",
       "      <th></th>\n",
       "      <th>gene_id</th>\n",
       "      <th>database</th>\n",
       "      <th>kegg_id</th>\n",
       "    </tr>\n",
       "  </thead>\n",
       "  <tbody>\n",
       "    <tr>\n",
       "      <th>2750</th>\n",
       "      <td>b0002</td>\n",
       "      <td>KEGG_pathway</td>\n",
       "      <td>map00260</td>\n",
       "    </tr>\n",
       "    <tr>\n",
       "      <th>2751</th>\n",
       "      <td>b0002</td>\n",
       "      <td>KEGG_pathway</td>\n",
       "      <td>map00261</td>\n",
       "    </tr>\n",
       "    <tr>\n",
       "      <th>2752</th>\n",
       "      <td>b0002</td>\n",
       "      <td>KEGG_pathway</td>\n",
       "      <td>map00270</td>\n",
       "    </tr>\n",
       "    <tr>\n",
       "      <th>2753</th>\n",
       "      <td>b0002</td>\n",
       "      <td>KEGG_pathway</td>\n",
       "      <td>map00300</td>\n",
       "    </tr>\n",
       "    <tr>\n",
       "      <th>2754</th>\n",
       "      <td>b0002</td>\n",
       "      <td>KEGG_pathway</td>\n",
       "      <td>map01100</td>\n",
       "    </tr>\n",
       "  </tbody>\n",
       "</table>\n",
       "</div>"
      ],
      "text/plain": [
       "     gene_id      database   kegg_id\n",
       "2750   b0002  KEGG_pathway  map00260\n",
       "2751   b0002  KEGG_pathway  map00261\n",
       "2752   b0002  KEGG_pathway  map00270\n",
       "2753   b0002  KEGG_pathway  map00300\n",
       "2754   b0002  KEGG_pathway  map01100"
      ]
     },
     "execution_count": 10,
     "metadata": {},
     "output_type": "execute_result"
    }
   ],
   "source": [
    "DF_kegg = DF_eggnog[['KEGG_orth','KEGG_pathway','KEGG_module','KEGG_reaction']]\n",
    "\n",
    "# Melt dataframe\n",
    "DF_kegg = DF_kegg.reset_index().melt(id_vars='locus_tag') \n",
    "\n",
    "# Remove null values\n",
    "DF_kegg = DF_kegg[DF_kegg.value.notnull()]\n",
    "\n",
    "# Split comma-separated values into their own rows\n",
    "list2struct = []\n",
    "for name,row in DF_kegg.iterrows():\n",
    "    for val in row.value.split(','):\n",
    "        list2struct.append([row.locus_tag,row.variable,val])\n",
    "\n",
    "DF_kegg = pd.DataFrame(list2struct,columns=['gene_id','database','kegg_id'])\n",
    "\n",
    "# Remove ko entries, as only map entries are searchable in KEGG pathway\n",
    "DF_kegg = DF_kegg[~DF_kegg.kegg_id.str.startswith('ko')]\n",
    "\n",
    "DF_kegg.head()"
   ]
  },
  {
   "cell_type": "markdown",
   "metadata": {},
   "source": [
    "## Save KEGG information"
   ]
  },
  {
   "cell_type": "code",
   "execution_count": 11,
   "metadata": {},
   "outputs": [],
   "source": [
    "DF_kegg.to_csv(os.path.join(org_dir,'annotation','kegg_mapping.csv'))"
   ]
  },
  {
   "cell_type": "markdown",
   "metadata": {},
   "source": [
    "## Save COGs to annotation dataframe"
   ]
  },
  {
   "cell_type": "code",
   "execution_count": 12,
   "metadata": {},
   "outputs": [],
   "source": [
    "DF_annot['COG'] = DF_eggnog.COG\n",
    "\n",
    "# Make sure COG only has one entry per gene\n",
    "DF_annot['COG'] = [item[0] if isinstance(item,str) else item for item in DF_annot['COG']]"
   ]
  },
  {
   "cell_type": "markdown",
   "metadata": {},
   "source": [
    "# Uniprot ID mapping"
   ]
  },
  {
   "cell_type": "code",
   "execution_count": 13,
   "metadata": {},
   "outputs": [],
   "source": [
    "# Try the uniprot ID mapping tool - Use EMBL for Genbank file and P_REFSEQ_AC for Refseq file\n",
    "mapping_uniprot = uniprot_id_mapping(DF_annot.ncbi_protein.fillna(''),input_id='P_REFSEQ_AC',output_id='ACC',\n",
    "                             input_name='ncbi_protein',output_name='uniprot')\n",
    "\n",
    "# Merge with current annotation\n",
    "DF_annot = pd.merge(DF_annot.reset_index(),mapping_uniprot,how='left',on='ncbi_protein')\n",
    "DF_annot.set_index('locus_tag',inplace=True)\n",
    "assert(len(DF_annot) == len(DF_annot))"
   ]
  },
  {
   "cell_type": "code",
   "execution_count": 14,
   "metadata": {},
   "outputs": [
    {
     "data": {
      "text/html": [
       "<div>\n",
       "<style scoped>\n",
       "    .dataframe tbody tr th:only-of-type {\n",
       "        vertical-align: middle;\n",
       "    }\n",
       "\n",
       "    .dataframe tbody tr th {\n",
       "        vertical-align: top;\n",
       "    }\n",
       "\n",
       "    .dataframe thead th {\n",
       "        text-align: right;\n",
       "    }\n",
       "</style>\n",
       "<table border=\"1\" class=\"dataframe\">\n",
       "  <thead>\n",
       "    <tr style=\"text-align: right;\">\n",
       "      <th></th>\n",
       "      <th>refseq</th>\n",
       "      <th>start</th>\n",
       "      <th>end</th>\n",
       "      <th>strand</th>\n",
       "      <th>gene_name</th>\n",
       "      <th>old_locus_tag</th>\n",
       "      <th>gene_product</th>\n",
       "      <th>ncbi_protein</th>\n",
       "      <th>COG</th>\n",
       "      <th>uniprot</th>\n",
       "    </tr>\n",
       "    <tr>\n",
       "      <th>locus_tag</th>\n",
       "      <th></th>\n",
       "      <th></th>\n",
       "      <th></th>\n",
       "      <th></th>\n",
       "      <th></th>\n",
       "      <th></th>\n",
       "      <th></th>\n",
       "      <th></th>\n",
       "      <th></th>\n",
       "      <th></th>\n",
       "    </tr>\n",
       "  </thead>\n",
       "  <tbody>\n",
       "    <tr>\n",
       "      <th>b0001</th>\n",
       "      <td>NC_000913.3</td>\n",
       "      <td>190</td>\n",
       "      <td>255</td>\n",
       "      <td>+</td>\n",
       "      <td>thrL</td>\n",
       "      <td>None</td>\n",
       "      <td>thr operon leader peptide</td>\n",
       "      <td>NP_414542.1</td>\n",
       "      <td>NaN</td>\n",
       "      <td>P0AD86</td>\n",
       "    </tr>\n",
       "    <tr>\n",
       "      <th>b0002</th>\n",
       "      <td>NC_000913.3</td>\n",
       "      <td>337</td>\n",
       "      <td>2799</td>\n",
       "      <td>+</td>\n",
       "      <td>thrA</td>\n",
       "      <td>None</td>\n",
       "      <td>fused aspartate kinase/homoserine dehydrogenase 1</td>\n",
       "      <td>NP_414543.1</td>\n",
       "      <td>E</td>\n",
       "      <td>P00561</td>\n",
       "    </tr>\n",
       "    <tr>\n",
       "      <th>b0003</th>\n",
       "      <td>NC_000913.3</td>\n",
       "      <td>2801</td>\n",
       "      <td>3733</td>\n",
       "      <td>+</td>\n",
       "      <td>thrB</td>\n",
       "      <td>None</td>\n",
       "      <td>homoserine kinase</td>\n",
       "      <td>NP_414544.1</td>\n",
       "      <td>F</td>\n",
       "      <td>P00547</td>\n",
       "    </tr>\n",
       "    <tr>\n",
       "      <th>b0004</th>\n",
       "      <td>NC_000913.3</td>\n",
       "      <td>3734</td>\n",
       "      <td>5020</td>\n",
       "      <td>+</td>\n",
       "      <td>thrC</td>\n",
       "      <td>None</td>\n",
       "      <td>threonine synthase</td>\n",
       "      <td>NP_414545.1</td>\n",
       "      <td>E</td>\n",
       "      <td>P00934</td>\n",
       "    </tr>\n",
       "    <tr>\n",
       "      <th>b0005</th>\n",
       "      <td>NC_000913.3</td>\n",
       "      <td>5234</td>\n",
       "      <td>5530</td>\n",
       "      <td>+</td>\n",
       "      <td>yaaX</td>\n",
       "      <td>None</td>\n",
       "      <td>DUF2502 domain-containing protein YaaX</td>\n",
       "      <td>NP_414546.1</td>\n",
       "      <td>S</td>\n",
       "      <td>P75616</td>\n",
       "    </tr>\n",
       "  </tbody>\n",
       "</table>\n",
       "</div>"
      ],
      "text/plain": [
       "                refseq  start   end strand gene_name old_locus_tag  \\\n",
       "locus_tag                                                            \n",
       "b0001      NC_000913.3    190   255      +      thrL          None   \n",
       "b0002      NC_000913.3    337  2799      +      thrA          None   \n",
       "b0003      NC_000913.3   2801  3733      +      thrB          None   \n",
       "b0004      NC_000913.3   3734  5020      +      thrC          None   \n",
       "b0005      NC_000913.3   5234  5530      +      yaaX          None   \n",
       "\n",
       "                                                gene_product ncbi_protein  \\\n",
       "locus_tag                                                                   \n",
       "b0001                              thr operon leader peptide  NP_414542.1   \n",
       "b0002      fused aspartate kinase/homoserine dehydrogenase 1  NP_414543.1   \n",
       "b0003                                      homoserine kinase  NP_414544.1   \n",
       "b0004                                     threonine synthase  NP_414545.1   \n",
       "b0005                 DUF2502 domain-containing protein YaaX  NP_414546.1   \n",
       "\n",
       "           COG uniprot  \n",
       "locus_tag               \n",
       "b0001      NaN  P0AD86  \n",
       "b0002        E  P00561  \n",
       "b0003        F  P00547  \n",
       "b0004        E  P00934  \n",
       "b0005        S  P75616  "
      ]
     },
     "execution_count": 14,
     "metadata": {},
     "output_type": "execute_result"
    }
   ],
   "source": [
    "DF_annot.head()"
   ]
  },
  {
   "cell_type": "markdown",
   "metadata": {},
   "source": [
    "# Clean up and save annotation"
   ]
  },
  {
   "cell_type": "code",
   "execution_count": 15,
   "metadata": {},
   "outputs": [],
   "source": [
    "# Temporarily remove warning\n",
    "pd.set_option('mode.chained_assignment', None)"
   ]
  },
  {
   "cell_type": "code",
   "execution_count": 16,
   "metadata": {},
   "outputs": [],
   "source": [
    "# Reorder annotation file\n",
    "if 'old_locus_tag' in DF_annot.columns:\n",
    "    order = ['gene_name','old_locus_tag','start','end','strand','gene_product','COG','uniprot']\n",
    "else:\n",
    "    order = ['gene_name','start','end','strand','gene_product','COG','uniprot']\n",
    "    \n",
    "DF_annot = DF_annot[order]"
   ]
  },
  {
   "cell_type": "code",
   "execution_count": 17,
   "metadata": {},
   "outputs": [
    {
     "data": {
      "text/html": [
       "<div>\n",
       "<style scoped>\n",
       "    .dataframe tbody tr th:only-of-type {\n",
       "        vertical-align: middle;\n",
       "    }\n",
       "\n",
       "    .dataframe tbody tr th {\n",
       "        vertical-align: top;\n",
       "    }\n",
       "\n",
       "    .dataframe thead th {\n",
       "        text-align: right;\n",
       "    }\n",
       "</style>\n",
       "<table border=\"1\" class=\"dataframe\">\n",
       "  <thead>\n",
       "    <tr style=\"text-align: right;\">\n",
       "      <th></th>\n",
       "      <th>gene_name</th>\n",
       "      <th>old_locus_tag</th>\n",
       "      <th>start</th>\n",
       "      <th>end</th>\n",
       "      <th>strand</th>\n",
       "      <th>gene_product</th>\n",
       "      <th>COG</th>\n",
       "      <th>uniprot</th>\n",
       "    </tr>\n",
       "    <tr>\n",
       "      <th>locus_tag</th>\n",
       "      <th></th>\n",
       "      <th></th>\n",
       "      <th></th>\n",
       "      <th></th>\n",
       "      <th></th>\n",
       "      <th></th>\n",
       "      <th></th>\n",
       "      <th></th>\n",
       "    </tr>\n",
       "  </thead>\n",
       "  <tbody>\n",
       "    <tr>\n",
       "      <th>b0001</th>\n",
       "      <td>thrL</td>\n",
       "      <td>None</td>\n",
       "      <td>190</td>\n",
       "      <td>255</td>\n",
       "      <td>+</td>\n",
       "      <td>thr operon leader peptide</td>\n",
       "      <td>NaN</td>\n",
       "      <td>P0AD86</td>\n",
       "    </tr>\n",
       "    <tr>\n",
       "      <th>b0002</th>\n",
       "      <td>thrA</td>\n",
       "      <td>None</td>\n",
       "      <td>337</td>\n",
       "      <td>2799</td>\n",
       "      <td>+</td>\n",
       "      <td>fused aspartate kinase/homoserine dehydrogenase 1</td>\n",
       "      <td>E</td>\n",
       "      <td>P00561</td>\n",
       "    </tr>\n",
       "    <tr>\n",
       "      <th>b0003</th>\n",
       "      <td>thrB</td>\n",
       "      <td>None</td>\n",
       "      <td>2801</td>\n",
       "      <td>3733</td>\n",
       "      <td>+</td>\n",
       "      <td>homoserine kinase</td>\n",
       "      <td>F</td>\n",
       "      <td>P00547</td>\n",
       "    </tr>\n",
       "    <tr>\n",
       "      <th>b0004</th>\n",
       "      <td>thrC</td>\n",
       "      <td>None</td>\n",
       "      <td>3734</td>\n",
       "      <td>5020</td>\n",
       "      <td>+</td>\n",
       "      <td>threonine synthase</td>\n",
       "      <td>E</td>\n",
       "      <td>P00934</td>\n",
       "    </tr>\n",
       "    <tr>\n",
       "      <th>b0005</th>\n",
       "      <td>yaaX</td>\n",
       "      <td>None</td>\n",
       "      <td>5234</td>\n",
       "      <td>5530</td>\n",
       "      <td>+</td>\n",
       "      <td>DUF2502 domain-containing protein YaaX</td>\n",
       "      <td>S</td>\n",
       "      <td>P75616</td>\n",
       "    </tr>\n",
       "  </tbody>\n",
       "</table>\n",
       "</div>"
      ],
      "text/plain": [
       "          gene_name old_locus_tag  start   end strand  \\\n",
       "locus_tag                                               \n",
       "b0001          thrL          None    190   255      +   \n",
       "b0002          thrA          None    337  2799      +   \n",
       "b0003          thrB          None   2801  3733      +   \n",
       "b0004          thrC          None   3734  5020      +   \n",
       "b0005          yaaX          None   5234  5530      +   \n",
       "\n",
       "                                                gene_product  COG uniprot  \n",
       "locus_tag                                                                  \n",
       "b0001                              thr operon leader peptide  NaN  P0AD86  \n",
       "b0002      fused aspartate kinase/homoserine dehydrogenase 1    E  P00561  \n",
       "b0003                                      homoserine kinase    F  P00547  \n",
       "b0004                                     threonine synthase    E  P00934  \n",
       "b0005                 DUF2502 domain-containing protein YaaX    S  P75616  "
      ]
     },
     "execution_count": 17,
     "metadata": {},
     "output_type": "execute_result"
    }
   ],
   "source": [
    "DF_annot.head()"
   ]
  },
  {
   "cell_type": "markdown",
   "metadata": {},
   "source": [
    "## Final statistics"
   ]
  },
  {
   "cell_type": "code",
   "execution_count": 18,
   "metadata": {},
   "outputs": [],
   "source": [
    "import seaborn as sns\n",
    "import matplotlib.pyplot as plt"
   ]
  },
  {
   "cell_type": "code",
   "execution_count": 19,
   "metadata": {},
   "outputs": [],
   "source": [
    "sns.set_style('ticks')"
   ]
  },
  {
   "cell_type": "code",
   "execution_count": 20,
   "metadata": {},
   "outputs": [
    {
     "data": {
      "image/png": "[encoded data removed]",
      "text/plain": [
       "<Figure size 432x288 with 1 Axes>"
      ]
     },
     "metadata": {},
     "output_type": "display_data"
    }
   ],
   "source": [
    "fig,ax = plt.subplots()\n",
    "DF_annot.count().plot(kind='bar',ax=ax)\n",
    "ax.set_ylabel('# of Values',fontsize=18)\n",
    "ax.tick_params(labelsize=16)"
   ]
  },
  {
   "cell_type": "markdown",
   "metadata": {},
   "source": [
    "## Fill missing values"
   ]
  },
  {
   "cell_type": "code",
   "execution_count": 21,
   "metadata": {},
   "outputs": [],
   "source": [
    "# Fill in missing gene names with locus tag names\n",
    "DF_annot['tmp_name'] = DF_annot.copy().index.tolist()\n",
    "DF_annot.gene_name.fillna(DF_annot.tmp_name,inplace=True)\n",
    "DF_annot.drop('tmp_name',axis=1,inplace=True)\n",
    "\n",
    "# Fill missing COGs with X\n",
    "DF_annot['COG'].fillna('X',inplace=True)\n",
    "\n",
    "# Change single letter COG annotation to full description\n",
    "DF_annot['COG'] = DF_annot.COG.apply(cog2str)"
   ]
  },
  {
   "cell_type": "code",
   "execution_count": 22,
   "metadata": {},
   "outputs": [
    {
     "data": {
      "image/png": "[encoded data removed]",
      "text/plain": [
       "<Figure size 432x288 with 1 Axes>"
      ]
     },
     "metadata": {},
     "output_type": "display_data"
    }
   ],
   "source": [
    "counts = DF_annot.COG.value_counts()\n",
    "plt.pie(counts.values,labels=counts.index);"
   ]
  },
  {
   "cell_type": "code",
   "execution_count": 23,
   "metadata": {},
   "outputs": [],
   "source": [
    "DF_annot.to_csv(os.path.join(org_dir,'annotation','gene_info.csv'))"
   ]
  },
  {
   "cell_type": "markdown",
   "metadata": {},
   "source": [
    "# GO Annotations"
   ]
  },
  {
   "cell_type": "markdown",
   "metadata": {},
   "source": [
    "To start, download the GO Annotations for your organism from AmiGO 2\n",
    "1. Go to http://amigo.geneontology.org/amigo/search/annotation\n",
    "1. Filter for your organism\n",
    "1. Click `CustomDL`\n",
    "1. Drag `GO class (direct)` to the end of your Selected Fields\n",
    "1. Save as `GO_annotations.txt` in the `data` folder of your organism directory"
   ]
  },
  {
   "cell_type": "code",
   "execution_count": 31,
   "metadata": {},
   "outputs": [
    {
     "data": {
      "text/html": [
       "<div>\n",
       "<style scoped>\n",
       "    .dataframe tbody tr th:only-of-type {\n",
       "        vertical-align: middle;\n",
       "    }\n",
       "\n",
       "    .dataframe tbody tr th {\n",
       "        vertical-align: top;\n",
       "    }\n",
       "\n",
       "    .dataframe thead th {\n",
       "        text-align: right;\n",
       "    }\n",
       "</style>\n",
       "<table border=\"1\" class=\"dataframe\">\n",
       "  <thead>\n",
       "    <tr style=\"text-align: right;\">\n",
       "      <th></th>\n",
       "      <th>gene_id</th>\n",
       "      <th>gene_ontology</th>\n",
       "    </tr>\n",
       "  </thead>\n",
       "  <tbody>\n",
       "    <tr>\n",
       "      <th>0</th>\n",
       "      <td>b1881|ECK1882</td>\n",
       "      <td>protein binding</td>\n",
       "    </tr>\n",
       "    <tr>\n",
       "      <th>1</th>\n",
       "      <td>b1881|ECK1882</td>\n",
       "      <td>protein binding</td>\n",
       "    </tr>\n",
       "    <tr>\n",
       "      <th>2</th>\n",
       "      <td>b1881|ECK1882</td>\n",
       "      <td>protein binding</td>\n",
       "    </tr>\n",
       "    <tr>\n",
       "      <th>3</th>\n",
       "      <td>b1881|ECK1882</td>\n",
       "      <td>protein binding</td>\n",
       "    </tr>\n",
       "    <tr>\n",
       "      <th>4</th>\n",
       "      <td>b1881|ECK1882</td>\n",
       "      <td>protein binding</td>\n",
       "    </tr>\n",
       "  </tbody>\n",
       "</table>\n",
       "</div>"
      ],
      "text/plain": [
       "         gene_id    gene_ontology\n",
       "0  b1881|ECK1882  protein binding\n",
       "1  b1881|ECK1882  protein binding\n",
       "2  b1881|ECK1882  protein binding\n",
       "3  b1881|ECK1882  protein binding\n",
       "4  b1881|ECK1882  protein binding"
      ]
     },
     "execution_count": 31,
     "metadata": {},
     "output_type": "execute_result"
    }
   ],
   "source": [
    "DF_GO = pd.read_csv(os.path.join(org_dir,'annotation','GO_annotations.txt'),sep='\\t',header=None,usecols=[2,10,17])\n",
    "DF_GO.columns = ['gene_name','gene_id','gene_ontology']\n",
    "DF_GO.gene_id.fillna(DF_GO.gene_name,inplace=True)\n",
    "DF_GO = DF_GO[['gene_id','gene_ontology']]\n",
    "DF_GO.head()"
   ]
  },
  {
   "cell_type": "markdown",
   "metadata": {},
   "source": [
    "Take a look at the `gene_id` column:\n",
    "1. Make sure there are no null entries\n",
    "2. Check if it uses the new or old locus tag (if applicable)"
   ]
  },
  {
   "cell_type": "code",
   "execution_count": 32,
   "metadata": {},
   "outputs": [
    {
     "data": {
      "text/html": [
       "<div>\n",
       "<style scoped>\n",
       "    .dataframe tbody tr th:only-of-type {\n",
       "        vertical-align: middle;\n",
       "    }\n",
       "\n",
       "    .dataframe tbody tr th {\n",
       "        vertical-align: top;\n",
       "    }\n",
       "\n",
       "    .dataframe thead th {\n",
       "        text-align: right;\n",
       "    }\n",
       "</style>\n",
       "<table border=\"1\" class=\"dataframe\">\n",
       "  <thead>\n",
       "    <tr style=\"text-align: right;\">\n",
       "      <th></th>\n",
       "      <th>gene_id</th>\n",
       "      <th>gene_ontology</th>\n",
       "    </tr>\n",
       "  </thead>\n",
       "  <tbody>\n",
       "  </tbody>\n",
       "</table>\n",
       "</div>"
      ],
      "text/plain": [
       "Empty DataFrame\n",
       "Columns: [gene_id, gene_ontology]\n",
       "Index: []"
      ]
     },
     "execution_count": 32,
     "metadata": {},
     "output_type": "execute_result"
    }
   ],
   "source": [
    "DF_GO[DF_GO.gene_id.isnull()]"
   ]
  },
  {
   "cell_type": "code",
   "execution_count": 30,
   "metadata": {},
   "outputs": [],
   "source": [
    "# Uncomment this code to replace old locus tag with new locus tag\n",
    "\n",
    "# convert_tags = {value:key for key,value in DF_annot.old_locus_tag.items()}\n",
    "# DF_GO.gene_id = DF_GO.gene_id.apply(lambda x: convert_tags[x])"
   ]
  },
  {
   "cell_type": "code",
   "execution_count": 33,
   "metadata": {},
   "outputs": [
    {
     "data": {
      "text/html": [
       "<div>\n",
       "<style scoped>\n",
       "    .dataframe tbody tr th:only-of-type {\n",
       "        vertical-align: middle;\n",
       "    }\n",
       "\n",
       "    .dataframe tbody tr th {\n",
       "        vertical-align: top;\n",
       "    }\n",
       "\n",
       "    .dataframe thead th {\n",
       "        text-align: right;\n",
       "    }\n",
       "</style>\n",
       "<table border=\"1\" class=\"dataframe\">\n",
       "  <thead>\n",
       "    <tr style=\"text-align: right;\">\n",
       "      <th></th>\n",
       "      <th>gene_id</th>\n",
       "      <th>gene_ontology</th>\n",
       "    </tr>\n",
       "  </thead>\n",
       "  <tbody>\n",
       "    <tr>\n",
       "      <th>0</th>\n",
       "      <td>b1881|ECK1882</td>\n",
       "      <td>protein binding</td>\n",
       "    </tr>\n",
       "    <tr>\n",
       "      <th>1</th>\n",
       "      <td>b1881|ECK1882</td>\n",
       "      <td>protein binding</td>\n",
       "    </tr>\n",
       "    <tr>\n",
       "      <th>2</th>\n",
       "      <td>b1881|ECK1882</td>\n",
       "      <td>protein binding</td>\n",
       "    </tr>\n",
       "    <tr>\n",
       "      <th>3</th>\n",
       "      <td>b1881|ECK1882</td>\n",
       "      <td>protein binding</td>\n",
       "    </tr>\n",
       "    <tr>\n",
       "      <th>4</th>\n",
       "      <td>b1881|ECK1882</td>\n",
       "      <td>protein binding</td>\n",
       "    </tr>\n",
       "  </tbody>\n",
       "</table>\n",
       "</div>"
      ],
      "text/plain": [
       "         gene_id    gene_ontology\n",
       "0  b1881|ECK1882  protein binding\n",
       "1  b1881|ECK1882  protein binding\n",
       "2  b1881|ECK1882  protein binding\n",
       "3  b1881|ECK1882  protein binding\n",
       "4  b1881|ECK1882  protein binding"
      ]
     },
     "execution_count": 33,
     "metadata": {},
     "output_type": "execute_result"
    }
   ],
   "source": [
    "DF_GO.head()"
   ]
  },
  {
   "cell_type": "code",
   "execution_count": 35,
   "metadata": {},
   "outputs": [],
   "source": [
    "DF_GO[['gene_id','gene_ontology']].to_csv(os.path.join(org_dir,'annotation','GO_annotations.csv'))"
   ]
  }
 ],
 "metadata": {
  "kernelspec": {
   "display_name": "Python 3",
   "language": "python",
   "name": "python3"
  },
  "language_info": {
   "codemirror_mode": {
    "name": "ipython",
    "version": 3
   },
   "file_extension": ".py",
   "mimetype": "text/x-python",
   "name": "python",
   "nbconvert_exporter": "python",
   "pygments_lexer": "ipython3",
   "version": "3.7.6"
  },
  "toc": {
   "base_numbering": 1,
   "nav_menu": {},
   "number_sections": true,
   "sideBar": true,
   "skip_h1_title": false,
   "title_cell": "Table of Contents",
   "title_sidebar": "Contents",
   "toc_cell": true,
   "toc_position": {},
   "toc_section_display": true,
   "toc_window_display": false
  }
 },
 "nbformat": 4,
 "nbformat_minor": 2
}
